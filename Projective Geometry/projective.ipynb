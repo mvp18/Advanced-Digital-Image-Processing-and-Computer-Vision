{
 "cells": [
  {
   "cell_type": "code",
   "execution_count": 81,
   "metadata": {},
   "outputs": [],
   "source": [
    "from __future__ import division, print_function\n",
    "import cv2\n",
    "import numpy as np\n",
    "import matplotlib.pyplot as plt"
   ]
  },
  {
   "cell_type": "code",
   "execution_count": 2,
   "metadata": {},
   "outputs": [],
   "source": [
    "imgcv = cv2.imread('/home/swagatam/cpp_test/wwsIP/practice/assignment2/box.png', 0)\n",
    "img1 = cv2.imread('/home/swagatam/cpp_test/wwsIP/practice/assignment2/star.png', 0)"
   ]
  },
  {
   "cell_type": "code",
   "execution_count": 3,
   "metadata": {},
   "outputs": [
    {
     "data": {
      "text/plain": [
       "(480, 640)"
      ]
     },
     "execution_count": 3,
     "metadata": {},
     "output_type": "execute_result"
    }
   ],
   "source": [
    "imgcv.shape"
   ]
  },
  {
   "cell_type": "code",
   "execution_count": 4,
   "metadata": {},
   "outputs": [
    {
     "data": {
      "text/plain": [
       "<matplotlib.image.AxesImage at 0x7efca5b25e10>"
      ]
     },
     "execution_count": 4,
     "metadata": {},
     "output_type": "execute_result"
    },
    {
     "data": {
      "image/png": "[encoded data removed]",
      "text/plain": [
       "<Figure size 432x288 with 1 Axes>"
      ]
     },
     "metadata": {
      "needs_background": "light"
     },
     "output_type": "display_data"
    }
   ],
   "source": [
    "plt.imshow(imgcv, cmap = 'gray')"
   ]
  },
  {
   "cell_type": "code",
   "execution_count": 5,
   "metadata": {},
   "outputs": [],
   "source": [
    "def create_grid(grid_dim, block_dim):\n",
    "    r = 2 ** grid_dim\n",
    "    c = r\n",
    "    br = 2 ** block_dim\n",
    "    bc = br\n",
    "    \n",
    "    grid = np.zeros((r,c))\n",
    "    color = 0\n",
    "    for i in range(0,r,br):\n",
    "        color = 255 - color\n",
    "        for j in range(0,c,bc):\n",
    "            grid[i:i+br-1, j:j+bc-1] = color\n",
    "            color = 255 - color\n",
    "    \n",
    "    return grid"
   ]
  },
  {
   "cell_type": "code",
   "execution_count": 173,
   "metadata": {},
   "outputs": [],
   "source": [
    "grid = create_grid(10,7)"
   ]
  },
  {
   "cell_type": "code",
   "execution_count": 174,
   "metadata": {},
   "outputs": [
    {
     "data": {
      "text/plain": [
       "<matplotlib.image.AxesImage at 0x7efca554cc50>"
      ]
     },
     "execution_count": 174,
     "metadata": {},
     "output_type": "execute_result"
    },
    {
     "data": {
      "image/png": "[encoded data removed]",
      "text/plain": [
       "<Figure size 432x288 with 1 Axes>"
      ]
     },
     "metadata": {
      "needs_background": "light"
     },
     "output_type": "display_data"
    }
   ],
   "source": [
    "plt.imshow(grid, cmap = 'gray')"
   ]
  },
  {
   "cell_type": "code",
   "execution_count": 189,
   "metadata": {},
   "outputs": [],
   "source": [
    "def isvalid(i, j, r, c):\n",
    "    if i < 0 or j < 0 or i > r-1 or j > c-1:\n",
    "        return 0\n",
    "    return 1\n",
    "\n",
    "def affine(img, matrix):\n",
    "    res = np.zeros(img.shape)\n",
    "    r, c = img.shape\n",
    "    countval = 0\n",
    "    countwhite = 0\n",
    "    for i in range(r):\n",
    "        for j in range(c):\n",
    "            x = np.array([[i], [j], [1]])\n",
    "            x_ = matrix.dot(x)\n",
    "            i1, j1, k = x_[0,0], x_[1,0], x_[2,0]\n",
    "            if k == 0:\n",
    "                k = 0.0000000001\n",
    "            i1 /= k\n",
    "            j1 /= k\n",
    "#             print('coordinate = ',i1,j1)\n",
    "            i1, j1 = int(i1), int(j1)\n",
    "#             print(i1,j1)\n",
    "            if isvalid(i1,j1,r,c):\n",
    "                countval += 1\n",
    "                res[i1,j1] = img[i,j]\n",
    "                if img[i,j] == 255:\n",
    "#                     print('white coordinate = ',i1,j1)\n",
    "                    countwhite += 1\n",
    "    print('Total valid pixels = ', countval)\n",
    "    print('Total pixels = ', r*c)\n",
    "    print('Fraction of valid pixels = ',countval / (r * c))\n",
    "    print('Total white pixels = ', countwhite)\n",
    "    return res\n",
    "\n",
    "def affine2(img, matrix):\n",
    "    res = np.zeros(img.shape)\n",
    "    res = np.zeros((3000,3000))\n",
    "    r, c = img.shape\n",
    "    countval = 0\n",
    "    countwhite = 0\n",
    "    for i in range(r):\n",
    "        for j in range(c):\n",
    "            x = np.array([[i], [j], [1]])\n",
    "            x_ = matrix.dot(x)\n",
    "            i1, j1, k = x_[0,0], x_[1,0], x_[2,0]\n",
    "            if k == 0:\n",
    "                k = 0.0000000001\n",
    "            i1 /= k\n",
    "            j1 /= k\n",
    "            i1 *= 100\n",
    "            j1 *= 100\n",
    "#             print('coordinate = ',i1,j1)\n",
    "            i1, j1 = int(i1) + 1500, int(j1) + 1500\n",
    "#             print(i1,j1)\n",
    "            if isvalid(i1,j1,3000,3000):\n",
    "                countval += 1\n",
    "                res[i1,j1] += 1\n",
    "#                 if img[i,j] == 255:\n",
    "#                     print('white coordinate = ',i1,j1)\n",
    "#                     countwhite += 1\n",
    "#     print('Total valid pixels = ', countval)\n",
    "#     print('Total pixels = ', r*c)\n",
    "#     print('Fraction of valid pixels = ',countval / (r * c))\n",
    "#     print('Total white pixels = ', countwhite)\n",
    "    return res"
   ]
  },
  {
   "cell_type": "code",
   "execution_count": 190,
   "metadata": {},
   "outputs": [],
   "source": [
    "matrix = np.array([\n",
    "    [1,1,0],\n",
    "    [0,1,0],\n",
    "    [0,0,1]\n",
    "])\n",
    "mat2 = np.array([\n",
    "    [1,0,0],\n",
    "    [0,1,0],\n",
    "    [0.2,0.3,0.5]\n",
    "])\n",
    "translate = np.array([\n",
    "    [1,0,1500],\n",
    "    [0,1,1500],\n",
    "    [0,0,1]\n",
    "])"
   ]
  },
  {
   "cell_type": "code",
   "execution_count": 191,
   "metadata": {},
   "outputs": [
    {
     "name": "stdout",
     "output_type": "stream",
     "text": [
      "Total valid pixels =  524800\n",
      "Total pixels =  1048576\n",
      "Fraction of valid pixels =  0.50048828125\n",
      "Total white pixels =  258064\n"
     ]
    }
   ],
   "source": [
    "res1 = affine(grid,matrix)"
   ]
  },
  {
   "cell_type": "code",
   "execution_count": 192,
   "metadata": {},
   "outputs": [],
   "source": [
    "res2 = affine2(grid,mat2)"
   ]
  },
  {
   "cell_type": "code",
   "execution_count": 193,
   "metadata": {},
   "outputs": [
    {
     "data": {
      "text/plain": [
       "<matplotlib.image.AxesImage at 0x7efca09cd750>"
      ]
     },
     "execution_count": 193,
     "metadata": {},
     "output_type": "execute_result"
    },
    {
     "data": {
      "image/png": "[encoded data removed]",
      "text/plain": [
       "<Figure size 432x288 with 1 Axes>"
      ]
     },
     "metadata": {
      "needs_background": "light"
     },
     "output_type": "display_data"
    }
   ],
   "source": [
    "plt.imshow(res1, cmap = 'gray')"
   ]
  },
  {
   "cell_type": "code",
   "execution_count": 194,
   "metadata": {},
   "outputs": [
    {
     "data": {
      "image/png": "[encoded data removed]",
      "text/plain": [
       "<Figure size 432x288 with 1 Axes>"
      ]
     },
     "metadata": {
      "needs_background": "light"
     },
     "output_type": "display_data"
    }
   ],
   "source": [
    "plt.imshow(res2, cmap = 'gray')\n",
    "plt.imsave('homo.png', res2, cmap = 'gray')"
   ]
  },
  {
   "cell_type": "code",
   "execution_count": 187,
   "metadata": {},
   "outputs": [
    {
     "name": "stdout",
     "output_type": "stream",
     "text": [
      "Total valid pixels =  0\n",
      "Total pixels =  1048576\n",
      "Fraction of valid pixels =  0.0\n",
      "Total white pixels =  0\n"
     ]
    }
   ],
   "source": [
    "res3 = affine(grid,translate)"
   ]
  },
  {
   "cell_type": "code",
   "execution_count": 188,
   "metadata": {},
   "outputs": [
    {
     "data": {
      "text/plain": [
       "<matplotlib.image.AxesImage at 0x7efca0a55a50>"
      ]
     },
     "execution_count": 188,
     "metadata": {},
     "output_type": "execute_result"
    },
    {
     "data": {
      "image/png": "[encoded data removed]",
      "text/plain": [
       "<Figure size 432x288 with 1 Axes>"
      ]
     },
     "metadata": {
      "needs_background": "light"
     },
     "output_type": "display_data"
    }
   ],
   "source": [
    "plt.imshow(res3, cmap = 'gray')"
   ]
  },
  {
   "cell_type": "code",
   "execution_count": null,
   "metadata": {},
   "outputs": [],
   "source": []
  },
  {
   "cell_type": "code",
   "execution_count": 137,
   "metadata": {},
   "outputs": [],
   "source": [
    "a = res1 == 255"
   ]
  },
  {
   "cell_type": "code",
   "execution_count": 138,
   "metadata": {},
   "outputs": [],
   "source": [
    "b = np.where(a == True)"
   ]
  },
  {
   "cell_type": "code",
   "execution_count": 139,
   "metadata": {},
   "outputs": [
    {
     "data": {
      "text/plain": [
       "(array([   0,    0,    0, ..., 1009, 1009, 1009]),\n",
       " array([  0,   1,   2, ..., 128, 129, 130]))"
      ]
     },
     "execution_count": 139,
     "metadata": {},
     "output_type": "execute_result"
    }
   ],
   "source": [
    "b"
   ]
  },
  {
   "cell_type": "code",
   "execution_count": 10,
   "metadata": {},
   "outputs": [],
   "source": [
    "a = np.zeros((5,5))"
   ]
  },
  {
   "cell_type": "code",
   "execution_count": 11,
   "metadata": {},
   "outputs": [],
   "source": [
    "a[0:2, 2:4] = 1"
   ]
  },
  {
   "cell_type": "code",
   "execution_count": 12,
   "metadata": {},
   "outputs": [
    {
     "data": {
      "text/plain": [
       "array([[0., 0., 1., 1., 0.],\n",
       "       [0., 0., 1., 1., 0.],\n",
       "       [0., 0., 0., 0., 0.],\n",
       "       [0., 0., 0., 0., 0.],\n",
       "       [0., 0., 0., 0., 0.]])"
      ]
     },
     "execution_count": 12,
     "metadata": {},
     "output_type": "execute_result"
    }
   ],
   "source": [
    "a"
   ]
  },
  {
   "cell_type": "code",
   "execution_count": 4,
   "metadata": {},
   "outputs": [
    {
     "data": {
      "text/plain": [
       "<matplotlib.image.AxesImage at 0x7f0b7921ff90>"
      ]
     },
     "execution_count": 4,
     "metadata": {},
     "output_type": "execute_result"
    },
    {
     "data": {
      "image/png": "[encoded data removed]",
      "text/plain": [
       "<Figure size 432x288 with 1 Axes>"
      ]
     },
     "metadata": {
      "needs_background": "light"
     },
     "output_type": "display_data"
    }
   ],
   "source": [
    "plt.imshow(img1, cmap = 'gray')"
   ]
  },
  {
   "cell_type": "code",
   "execution_count": 7,
   "metadata": {},
   "outputs": [
    {
     "data": {
      "image/png": "[encoded data removed]",
      "text/plain": [
       "<Figure size 432x288 with 1 Axes>"
      ]
     },
     "metadata": {
      "needs_background": "light"
     },
     "output_type": "display_data"
    }
   ],
   "source": [
    "imgcv[:,200] = 0\n",
    "plt.imshow(imgcv, cmap = 'gray')\n",
    "plt.imsave('boxj.png', imgcv, cmap = 'gray')"
   ]
  },
  {
   "cell_type": "code",
   "execution_count": 4,
   "metadata": {},
   "outputs": [
    {
     "data": {
      "image/png": "[encoded data removed]",
      "text/plain": [
       "<Figure size 432x288 with 1 Axes>"
      ]
     },
     "metadata": {
      "needs_background": "light"
     },
     "output_type": "display_data"
    }
   ],
   "source": [
    "imgcv[200,:] = 0\n",
    "plt.imshow(imgcv, cmap = 'gray')\n",
    "plt.imsave('boxi.png', imgcv, cmap = 'gray')"
   ]
  },
  {
   "cell_type": "code",
   "execution_count": 23,
   "metadata": {},
   "outputs": [
    {
     "data": {
      "image/png": "[encoded data removed]",
      "text/plain": [
       "<Figure size 432x288 with 1 Axes>"
      ]
     },
     "metadata": {
      "needs_background": "light"
     },
     "output_type": "display_data"
    }
   ],
   "source": [
    "plt.imshow(imgcv, cmap = 'gray')\n",
    "plt.imsave('box1.png', imgcv, cmap = 'gray')"
   ]
  },
  {
   "cell_type": "code",
   "execution_count": 41,
   "metadata": {},
   "outputs": [
    {
     "name": "stdout",
     "output_type": "stream",
     "text": [
      "[[ 0.98480775 -0.17364818]\n",
      " [ 0.17364818  0.98480775]]\n"
     ]
    }
   ],
   "source": [
    "theta = -np.pi / 18\n",
    "rotate = np.array([\n",
    "    [np.cos(theta), np.sin(theta)],\n",
    "    [-np.sin(theta), np.cos(theta)]\n",
    "])\n",
    "\n",
    "affine = np.array([\n",
    "    [0.7, 0.6],\n",
    "    [0.3, 0.4]\n",
    "])\n",
    "\n",
    "print(rotate)"
   ]
  },
  {
   "cell_type": "code",
   "execution_count": 42,
   "metadata": {},
   "outputs": [],
   "source": [
    "def isvalid(i, j, r, c):\n",
    "    if i < 0 or j < 0 or i > r-1 or j > c-1:\n",
    "        return 0\n",
    "    return 1"
   ]
  },
  {
   "cell_type": "code",
   "execution_count": 43,
   "metadata": {},
   "outputs": [],
   "source": [
    "r, c = img1.shape"
   ]
  },
  {
   "cell_type": "code",
   "execution_count": 44,
   "metadata": {},
   "outputs": [],
   "source": [
    "rot = np.zeros(img1.shape)\n",
    "# rot = np.zeros((2*r, 2*c))\n",
    "for i in range(r):\n",
    "    for j in range(c):\n",
    "        P = np.array([[i], [j]])\n",
    "        P_ = rotate.dot(P)\n",
    "        i1, j1 = int(P_[0,0]), int(P_[1,0])\n",
    "        if isvalid(i1,j1,r,c):\n",
    "            rot[i1,j1] = img1[i,j]"
   ]
  },
  {
   "cell_type": "code",
   "execution_count": 45,
   "metadata": {},
   "outputs": [
    {
     "data": {
      "text/plain": [
       "<matplotlib.image.AxesImage at 0x7f0b78880a10>"
      ]
     },
     "execution_count": 45,
     "metadata": {},
     "output_type": "execute_result"
    },
    {
     "data": {
      "image/png": "[encoded data removed]",
      "text/plain": [
       "<Figure size 432x288 with 1 Axes>"
      ]
     },
     "metadata": {
      "needs_background": "light"
     },
     "output_type": "display_data"
    }
   ],
   "source": [
    "plt.imshow(rot, cmap = 'gray')"
   ]
  },
  {
   "cell_type": "code",
   "execution_count": 50,
   "metadata": {},
   "outputs": [],
   "source": [
    "r, c = imgcv.shape\n",
    "rot = np.zeros((r,c))\n",
    "for i in range(r):\n",
    "    for j in range(c):\n",
    "        P = np.array([[i], [j]])\n",
    "        P_ = rotate.dot(P)\n",
    "        i1, j1 = int(P_[0,0]), int(P_[1,0])\n",
    "        if isvalid(i1,j1,r,c):\n",
    "            rot[i1,j1] = imgcv[i,j]"
   ]
  },
  {
   "cell_type": "code",
   "execution_count": 51,
   "metadata": {},
   "outputs": [
    {
     "data": {
      "text/plain": [
       "<matplotlib.image.AxesImage at 0x7f0b78744150>"
      ]
     },
     "execution_count": 51,
     "metadata": {},
     "output_type": "execute_result"
    },
    {
     "data": {
      "image/png": "[encoded data removed]",
      "text/plain": [
       "<Figure size 432x288 with 1 Axes>"
      ]
     },
     "metadata": {
      "needs_background": "light"
     },
     "output_type": "display_data"
    }
   ],
   "source": [
    "plt.imshow(rot, cmap = 'gray')"
   ]
  },
  {
   "cell_type": "code",
   "execution_count": 31,
   "metadata": {},
   "outputs": [
    {
     "data": {
      "text/plain": [
       "(480, 640)"
      ]
     },
     "execution_count": 31,
     "metadata": {},
     "output_type": "execute_result"
    }
   ],
   "source": [
    "rot.shape"
   ]
  },
  {
   "cell_type": "code",
   "execution_count": 15,
   "metadata": {},
   "outputs": [],
   "source": [
    "P = np.array([[1], [1]])"
   ]
  },
  {
   "cell_type": "code",
   "execution_count": 26,
   "metadata": {},
   "outputs": [
    {
     "data": {
      "text/plain": [
       "array([[1],\n",
       "       [1]])"
      ]
     },
     "execution_count": 26,
     "metadata": {},
     "output_type": "execute_result"
    }
   ],
   "source": [
    "P"
   ]
  },
  {
   "cell_type": "code",
   "execution_count": 27,
   "metadata": {},
   "outputs": [
    {
     "data": {
      "text/plain": [
       "array([[1.41421356e+00],\n",
       "       [1.11022302e-16]])"
      ]
     },
     "execution_count": 27,
     "metadata": {},
     "output_type": "execute_result"
    }
   ],
   "source": [
    "rotate.dot(P)"
   ]
  },
  {
   "cell_type": "code",
   "execution_count": 24,
   "metadata": {},
   "outputs": [
    {
     "data": {
      "text/plain": [
       "1"
      ]
     },
     "execution_count": 24,
     "metadata": {},
     "output_type": "execute_result"
    }
   ],
   "source": [
    "x"
   ]
  },
  {
   "cell_type": "code",
   "execution_count": 25,
   "metadata": {},
   "outputs": [
    {
     "data": {
      "text/plain": [
       "1"
      ]
     },
     "execution_count": 25,
     "metadata": {},
     "output_type": "execute_result"
    }
   ],
   "source": [
    "y"
   ]
  },
  {
   "cell_type": "code",
   "execution_count": null,
   "metadata": {},
   "outputs": [],
   "source": []
  }
 ],
 "metadata": {
  "kernelspec": {
   "display_name": "Python 2",
   "language": "python",
   "name": "python2"
  },
  "language_info": {
   "codemirror_mode": {
    "name": "ipython",
    "version": 2
   },
   "file_extension": ".py",
   "mimetype": "text/x-python",
   "name": "python",
   "nbconvert_exporter": "python",
   "pygments_lexer": "ipython2",
   "version": "2.7.12"
  }
 },
 "nbformat": 4,
 "nbformat_minor": 2
}
