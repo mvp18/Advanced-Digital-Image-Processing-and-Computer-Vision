{
 "cells": [
  {
   "cell_type": "code",
   "execution_count": 1,
   "metadata": {},
   "outputs": [],
   "source": [
    "import cv2\n",
    "import numpy as np\n",
    "from skimage.feature import corner_peaks\n",
    "from scipy import ndimage as ndi"
   ]
  },
  {
   "cell_type": "code",
   "execution_count": 2,
   "metadata": {},
   "outputs": [],
   "source": [
    "def isvalid(i, j, r, c):\n",
    "    if i >= r or j >= c or i < 0 or j < 0:\n",
    "        return 0\n",
    "    return 1\n",
    "\n",
    "def convert_to_grayscale(image):\n",
    "    B = image[:,:,0]\n",
    "    G = image[:,:,1]\n",
    "    R = image[:,:,2]\n",
    "    img_gray = 0.2989*R + 0.5870*G + 0.1140*B\n",
    "    img_gray = img_gray.astype('uint8')\n",
    "    return img_gray\n",
    "\n",
    "def gaussian(m, n, sigma = 1):\n",
    "    g = np.zeros((m,n))\n",
    "    m = m // 2\n",
    "    n = n // 2\n",
    "    for i in range(-m,m+1):\n",
    "        for j in range(-n,n+1):\n",
    "            den = 2.0*np.pi*(sigma**2)\n",
    "            num = np.exp(-(i**2 + j**2) / (2*(sigma**2)))\n",
    "            g[i+m][j+n] = num / den\n",
    "    return g\n",
    "\n",
    "def filter2D(image, kernel):\n",
    "    r, c = image.shape\n",
    "    m, n = kernel.shape\n",
    "    filtered = np.zeros(image.shape)\n",
    "    dx, dy = m//2, n//2\n",
    "    for i in range(r):\n",
    "        for j in range(c):\n",
    "            psum = 0.0\n",
    "            for k in range(i-dx,i+dx+1):\n",
    "                for l in range(j-dy,j+dy+1):\n",
    "                    if isvalid(k,l,r,c):\n",
    "                        psum += image[k][l] * kernel[i-k+dx][j-l+dy]\n",
    "            filtered[i][j] = psum\n",
    "    return filtered\n",
    "\n",
    "def scaling(image, sigmag = 3, k = 5):\n",
    "    kernel = gaussian(k,k,sigmag)\n",
    "    scaled = filter2D(image,kernel)\n",
    "    return scaled\n",
    "\n",
    "def edge_sobel(image):\n",
    "    Sx = np.array([\n",
    "        [-1,0,1],\n",
    "        [-2,0,2],\n",
    "        [-1,0,1]\n",
    "    ])\n",
    "    Sx = Sx / 8.0\n",
    "    \n",
    "    Sy = np.array([\n",
    "        [-1,-2,-1],\n",
    "        [0,0,0],\n",
    "        [1,2,1]\n",
    "    ])\n",
    "    Sy = Sy / 8.0\n",
    "    \n",
    "    Ix = filter2D(image, Sx)\n",
    "    Iy = filter2D(image, Sy)\n",
    "    \n",
    "    grads = np.sqrt(Ix**2 + Iy**2)\n",
    "    return Ix, Iy, grads\n",
    "\n",
    "def otsu(image):\n",
    "\n",
    "    hist, _ = np.histogram(image, bins=256, range=(0, 255))\n",
    "    total = image.shape[0]*image.shape[1]\n",
    "    current_max, threshold = 0, 0\n",
    "    sumT, sumF, sumB = 0, 0, 0\n",
    "    \n",
    "    for i in range(0,256):\n",
    "        sumT += i * hist[i]\n",
    "    \n",
    "    weightB, weightF = 0, 0\n",
    "    varBetween, meanB, meanF = 0, 0, 0\n",
    "    \n",
    "    for i in range(0,256):\n",
    "        weightB += hist[i]\n",
    "        weightF = total - weightB\n",
    "        if weightF == 0:\n",
    "            break\n",
    "        sumB += i*hist[i]\n",
    "        sumF = sumT - sumB\n",
    "        meanB = sumB/weightB\n",
    "        meanF = sumF/weightF\n",
    "        varBetween = weightB * weightF\n",
    "        varBetween *= (meanB-meanF)*(meanB-meanF)\n",
    "        if varBetween > current_max:\n",
    "            current_max = varBetween\n",
    "            threshold = i  \n",
    "    \n",
    "    th = image\n",
    "    th[th>=threshold]=255\n",
    "    th[th<threshold]=0\n",
    "    \n",
    "    return th\n",
    "\n",
    "def harris(img):\n",
    "    \n",
    "    img_gray = convert_to_grayscale(img)\n",
    "    blur = scaling(img_gray, 3, 5)\n",
    "#     blur=cv2.GaussianBlur(img_gray,(3,3),0)\n",
    "    otsu_thresh = otsu(blur)\n",
    "    \n",
    "    Ix, Iy, _ = edge_sobel(blur)\n",
    "    Ixx = scaling(Ix*Ix, 3, 5)\n",
    "    Ixy = scaling(Ix*Iy, 3, 5)\n",
    "    Iyy = scaling(Iy*Iy, 3, 5)\n",
    "#     Ixx = ndi.gaussian_filter(Ix**2, sigma=1)\n",
    "#     Ixy = ndi.gaussian_filter(Iy*Ix, sigma=1)\n",
    "#     Iyy = ndi.gaussian_filter(Iy**2, sigma=1)\n",
    "    \n",
    "    detA = Ixx*Iyy - Ixy**2\n",
    "    traceA = Ixx + Iyy\n",
    "    Rs = detA - 0.05*traceA**2\n",
    "#     corners = corner_peaks(R)\n",
    "    \n",
    "    img_copy_for_corners = np.copy(img)\n",
    "#     for corner in corners:\n",
    "#         x, y = corner[0], corner[1]\n",
    "#         img_copy_for_corners=cv2.circle(img_copy_for_corners, (x,y), 4, (255,0,0), -1)\n",
    "    \n",
    "    threshold=1e-2\n",
    "    nms_size=10\n",
    "    # apply thresholding\n",
    "    Rs = Rs * (Rs > (threshold * Rs.max())) * (Rs > 0)\n",
    "    # apply non maximal suppression\n",
    "    rows, columns = np.nonzero(Rs)\n",
    "    new_Rs = np.zeros(Rs.shape)\n",
    "    for r,c in zip(rows,columns):\n",
    "        minr = max(0, r - nms_size / 2)\n",
    "        maxr = min(img.shape[0], minr + nms_size)\n",
    "        minc = max(0, c - nms_size / 2)\n",
    "        maxc = min(img.shape[1], minc + nms_size)\n",
    "        if Rs[r,c] == Rs[int(minr):int(maxr),int(minc):int(maxc)].max():\n",
    "            new_Rs[r,c] = Rs[r,c]\n",
    "   \n",
    "    corners_x,corners_y = np.nonzero(new_Rs)\n",
    "    \n",
    "#     print(corners_x.shape)\n",
    "\n",
    "#     img_copy_for_corners = np.copy(img)\n",
    "\n",
    "    for x,y in zip(corners_x, corners_y):\n",
    "#         x, y = corner[0], corner[1]\n",
    "        img_copy_for_corners=cv2.circle(img_copy_for_corners, (x,y), 4, (255,0,0), -1)\n",
    "        \n",
    "    return img_copy_for_corners\n",
    "\n",
    "#     cv2.imwrite(\"finalimage.png\", img_copy_for_corners)"
   ]
  },
  {
   "cell_type": "code",
   "execution_count": 3,
   "metadata": {},
   "outputs": [
    {
     "name": "stderr",
     "output_type": "stream",
     "text": [
      "/home/mvp18/anaconda3/envs/torch/lib/python3.7/site-packages/ipykernel_launcher.py:86: RuntimeWarning: invalid value encountered in long_scalars\n"
     ]
    }
   ],
   "source": [
    "img = cv2.imread('./images/checkerboard.jpg')\n",
    "# img = cv2.imread('./images/checkerboard.jpg')\n",
    "\n",
    "harr_img = harris(img)"
   ]
  },
  {
   "cell_type": "code",
   "execution_count": 4,
   "metadata": {},
   "outputs": [
    {
     "data": {
      "image/png": "[encoded data removed]",
      "text/plain": [
       "<Figure size 432x288 with 1 Axes>"
      ]
     },
     "metadata": {
      "needs_background": "light"
     },
     "output_type": "display_data"
    }
   ],
   "source": [
    "import matplotlib.pyplot as plt\n",
    "%matplotlib inline\n",
    "plt.imshow(np.uint8(harr_img))\n",
    "plt.show()"
   ]
  },
  {
   "cell_type": "code",
   "execution_count": null,
   "metadata": {},
   "outputs": [],
   "source": [
    "cv2.imwrite(\"./images/harris.png\", harr_img)"
   ]
  },
  {
   "cell_type": "code",
   "execution_count": null,
   "metadata": {},
   "outputs": [],
   "source": [
    "operatedImage = np.float32(convert_to_grayscale(img)) \n",
    "  \n",
    "# apply the cv2.cornerHarris method \n",
    "# to detect the corners with appropriate \n",
    "# values as input parameters \n",
    "dest = cv2.cornerHarris(operatedImage, 2, 5, 0.07) \n",
    "  \n",
    "# Results are marked through the dilated corners \n",
    "dest = cv2.dilate(dest, None) \n",
    "  \n",
    "# Reverting back to the original image, \n",
    "# with optimal threshold value \n",
    "img[dest > 0.01 * dest.max()]=[0, 0, 255]"
   ]
  },
  {
   "cell_type": "code",
   "execution_count": null,
   "metadata": {},
   "outputs": [],
   "source": [
    "plt.imshow(np.uint8(dest), cmap='gray')\n",
    "plt.show()"
   ]
  },
  {
   "cell_type": "code",
   "execution_count": null,
   "metadata": {},
   "outputs": [],
   "source": []
  }
 ],
 "metadata": {
  "kernelspec": {
   "display_name": "Python 3",
   "language": "python",
   "name": "python3"
  },
  "language_info": {
   "codemirror_mode": {
    "name": "ipython",
    "version": 3
   },
   "file_extension": ".py",
   "mimetype": "text/x-python",
   "name": "python",
   "nbconvert_exporter": "python",
   "pygments_lexer": "ipython3",
   "version": "3.7.4"
  }
 },
 "nbformat": 4,
 "nbformat_minor": 2
}
