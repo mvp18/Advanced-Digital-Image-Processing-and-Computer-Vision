{
 "cells": [
  {
   "cell_type": "code",
   "execution_count": 8,
   "metadata": {},
   "outputs": [],
   "source": [
    "import cv2\n",
    "import numpy as np"
   ]
  },
  {
   "cell_type": "code",
   "execution_count": 9,
   "metadata": {},
   "outputs": [],
   "source": [
    "imgcv = cv2.imread('../Reference files/fruits.png', 0)\n",
    "# imgcv = cv2.imread('cavepainting1.JPG', 0)\n",
    "blur = cv2.GaussianBlur(imgcv,(5,5),0)\n",
    "ret3,th3 = cv2.threshold(blur,0,255,cv2.THRESH_BINARY+cv2.THRESH_OTSU)"
   ]
  },
  {
   "cell_type": "code",
   "execution_count": null,
   "metadata": {},
   "outputs": [],
   "source": [
    "def gradient_x(imggray):\n",
    "\t##Sobel operator kernels.\n",
    "\tkernel_x = np.array([[-1, 0, 1],[-2, 0, 2],[-1, 0, 1]])\n",
    "\treturn sig.convolve2d(imggray, kernel_x, mode='same')\n",
    "def gradient_y(imggray):\n",
    "\tkernel_y = np.array([[1, 2, 1], [0, 0, 0], [-1, -2, -1]])\n",
    "\treturn sig.convolve2d(imggray, kernel_y, mode='same')\n",
    "\n",
    "img = cv2.imread('cavepainting1.JPG')\n",
    "imggray = cv2.imread('cavepainting1.JPG', 0)\n",
    "\n",
    "blur = cv2.GaussianBlur(imggray,(5,5),0)\n",
    "ret3,th3 = cv2.threshold(blur,0,255,cv2.THRESH_BINARY+cv2.THRESH_OTSU)\n",
    "\n",
    "I_x = gradient_x(th3)\n",
    "I_y = gradient_y(th3)\n",
    "\n",
    "Ixx = ndi.gaussian_filter(I_x**2, sigma=1)\n",
    "Ixy = ndi.gaussian_filter(I_y*I_x, sigma=1)\n",
    "Iyy = ndi.gaussian_filter(I_y**2, sigma=1)\n",
    "\n",
    "k = 0.04\n",
    "detA = Ixx * Iyy - Ixy ** 2\n",
    "traceA = Ixx + Iyy\n",
    "harris_response = detA - k * traceA ** 2\n",
    "corners = corner_peaks(harris_response)\n",
    "\n",
    "img_copy_for_corners = np.copy(img)\n",
    "\n",
    "# for rowindex, response in enumerate(corners):\n",
    "# \tfor colindex, r in enumerate(response):\n",
    "# \t\tif r > 0:\n",
    "# \t\t\t# this is a corner\n",
    "# \t\t\timg_copy_for_corners[rowindex, colindex] = [0,0,0]\n",
    "\n",
    "for corner in corners:\n",
    "\tx, y = corner[0], corner[1]\n",
    "\timg_copy_for_corners[x, y] = [0,0,255]\n",
    "\n",
    "cv2.imwrite(\"finalimage.png\", img_copy_for_corners)"
   ]
  },
  {
   "cell_type": "code",
   "execution_count": 14,
   "metadata": {},
   "outputs": [
    {
     "data": {
      "text/plain": [
       "<matplotlib.image.AxesImage at 0x7f2927918f90>"
      ]
     },
     "execution_count": 14,
     "metadata": {},
     "output_type": "execute_result"
    },
    {
     "data": {
      "image/png": "[encoded data removed]",
      "text/plain": [
       "<Figure size 432x288 with 1 Axes>"
      ]
     },
     "metadata": {
      "needs_background": "light"
     },
     "output_type": "display_data"
    }
   ],
   "source": [
    "plt.imshow(imgcv, cmap='gray')"
   ]
  },
  {
   "cell_type": "code",
   "execution_count": 15,
   "metadata": {},
   "outputs": [
    {
     "data": {
      "image/png": "[encoded data removed]",
      "text/plain": [
       "<Figure size 432x288 with 1 Axes>"
      ]
     },
     "metadata": {
      "needs_background": "light"
     },
     "output_type": "display_data"
    }
   ],
   "source": [
    "plt.imshow(np.uint8(th3), cmap='gray')\n",
    "plt.show()"
   ]
  },
  {
   "cell_type": "code",
   "execution_count": 16,
   "metadata": {},
   "outputs": [],
   "source": [
    "def isvalid(i, j, r, c):\n",
    "    if i >= r or j >= c or i < 0 or j < 0:\n",
    "        return 0\n",
    "    return 1\n",
    "\n",
    "def dfs_visit(image, visited, i, j, count):\n",
    "\n",
    "    r, c = image.shape\n",
    "    visited[i][j] = 255\n",
    "    for k in range(i-1, i+2):\n",
    "        for l in range(j-1, j+2):\n",
    "            if isvalid(k, l, r, c):\n",
    "                if (visited[i][j]==0 and image[i][j]==255):\n",
    "                    dfs_visit(image, visited, k, l, count)\n",
    "\n",
    "    return visited\n",
    "\n",
    "def connected_component(image):\n",
    "\n",
    "    r, c = image.shape\n",
    "    count=1\n",
    "\n",
    "    visited = np.zeros([r, c])\n",
    "\n",
    "    for i in range(r):\n",
    "        for j in range(c):\n",
    "            if isvalid(i, j, r, c):\n",
    "                if (visited[i][j]==0 and image[i][j]==255):\n",
    "                    visited = dfs_visit(image, visited, i, j, count)\n",
    "                    count+=1\n",
    "    return visited"
   ]
  },
  {
   "cell_type": "code",
   "execution_count": 17,
   "metadata": {},
   "outputs": [],
   "source": [
    "cc=connected_component(th3)"
   ]
  },
  {
   "cell_type": "code",
   "execution_count": 18,
   "metadata": {},
   "outputs": [
    {
     "data": {
      "image/png": "[encoded data removed]",
      "text/plain": [
       "<Figure size 432x288 with 1 Axes>"
      ]
     },
     "metadata": {
      "needs_background": "light"
     },
     "output_type": "display_data"
    }
   ],
   "source": [
    "import matplotlib.pyplot as plt\n",
    "%matplotlib inline\n",
    "plt.imshow(np.uint8(cc), cmap='gray')\n",
    "plt.show()"
   ]
  },
  {
   "cell_type": "code",
   "execution_count": null,
   "metadata": {},
   "outputs": [],
   "source": [
    "hist, _ = np.histogram(imgcv, bins=256, range=(0, 255))"
   ]
  },
  {
   "cell_type": "code",
   "execution_count": null,
   "metadata": {},
   "outputs": [],
   "source": [
    "def otsu(image):\n",
    "    hist, _ = np.histogram(image, bins=256, range=(0, 255))\n",
    "    total = image.shape[0]*image.shape[1]\n",
    "    current_max, threshold = 0, 0\n",
    "    sumT, sumF, sumB = 0, 0, 0\n",
    "    for i in range(0,256):\n",
    "        sumT += i * hist[i]\n",
    "    weightB, weightF = 0, 0\n",
    "    varBetween, meanB, meanF = 0, 0, 0\n",
    "    for i in range(0,256):\n",
    "        weightB += hist[i]\n",
    "        weightF = total - weightB\n",
    "        if weightF == 0:\n",
    "            break\n",
    "        sumB += i*hist[i]\n",
    "        sumF = sumT - sumB\n",
    "        meanB = sumB/weightB\n",
    "        meanF = sumF/weightF\n",
    "        varBetween = weightB * weightF\n",
    "        varBetween *= (meanB-meanF)*(meanB-meanF)\n",
    "        if varBetween > current_max:\n",
    "            current_max = varBetween\n",
    "            threshold = i \n",
    "    print(\"threshold is:\", threshold) \n",
    "    \n",
    "    return threshold"
   ]
  },
  {
   "cell_type": "code",
   "execution_count": null,
   "metadata": {},
   "outputs": [],
   "source": [
    "x=otsu(imgcv)"
   ]
  },
  {
   "cell_type": "code",
   "execution_count": null,
   "metadata": {},
   "outputs": [],
   "source": [
    "y=imgcv\n",
    "y[y>=x]=255\n",
    "y[y<x]=0"
   ]
  },
  {
   "cell_type": "code",
   "execution_count": null,
   "metadata": {},
   "outputs": [],
   "source": [
    "plt.imshow(np.uint8(y), cmap='gray')\n",
    "plt.show()"
   ]
  }
 ],
 "metadata": {
  "kernelspec": {
   "display_name": "Python 3",
   "language": "python",
   "name": "python3"
  },
  "language_info": {
   "codemirror_mode": {
    "name": "ipython",
    "version": 3
   },
   "file_extension": ".py",
   "mimetype": "text/x-python",
   "name": "python",
   "nbconvert_exporter": "python",
   "pygments_lexer": "ipython3",
   "version": "3.7.4"
  }
 },
 "nbformat": 4,
 "nbformat_minor": 2
}
